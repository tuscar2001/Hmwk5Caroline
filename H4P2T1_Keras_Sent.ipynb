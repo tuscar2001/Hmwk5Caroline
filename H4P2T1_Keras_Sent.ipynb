{
  "nbformat": 4,
  "nbformat_minor": 0,
  "metadata": {
    "kernelspec": {
      "display_name": "Python 3",
      "language": "python",
      "name": "python3"
    },
    "language_info": {
      "codemirror_mode": {
        "name": "ipython",
        "version": 3
      },
      "file_extension": ".py",
      "mimetype": "text/x-python",
      "name": "python",
      "nbconvert_exporter": "python",
      "pygments_lexer": "ipython3",
      "version": "3.8.3"
    },
    "colab": {
      "name": "H4P2T1_Keras_Sent.ipynb",
      "provenance": [],
      "collapsed_sections": []
    }
  },
  "cells": [
    {
      "cell_type": "markdown",
      "metadata": {
        "id": "ne_c0HBSMGOV"
      },
      "source": [
        "# Classification using a Neural Network - Handle Class Imbalance (Keras)\n",
        "The dataset is from https://www.kaggle.com/c/GiveMeSomeCredit <br>\n",
        "\"Banks play a crucial role in market economies. They decide who can get finance and on what terms and can make or break investment decisions. For markets and society to function, individuals and companies need access to credit. Credit scoring algorithms, which make a guess at the probability of default, are the method banks use to determine whether or not a loan should be granted.\"  <br>\n",
        "We will build an MLP classifier to predict if someone will experience financial distress and therefore cannot pay off credit card (i.e. default). It is a binary classificaiton problem: default (class-1) or not default  (class-0) <br>\n",
        "Real dataset is often imbalanced: class-i may have much more data samples than class-j."
      ]
    },
    {
      "cell_type": "code",
      "metadata": {
        "id": "e1SaaRNyMGOg"
      },
      "source": [
        "import tensorflow.keras as keras\n",
        "from tensorflow.keras.models import Sequential \n",
        "from tensorflow.keras import layers\n",
        "from tensorflow.keras.layers import Dense\n",
        "from tensorflow.keras.optimizers import SGD, Adam\n",
        "from tensorflow.keras.datasets import mnist\n",
        "\n",
        "import matplotlib.pyplot as plt\n",
        "from IPython import display\n",
        "import numpy as np\n",
        "import pandas as pd"
      ],
      "execution_count": 176,
      "outputs": []
    },
    {
      "cell_type": "markdown",
      "metadata": {
        "id": "DiMAqrFWMGOl"
      },
      "source": [
        "### Load the data"
      ]
    },
    {
      "cell_type": "code",
      "metadata": {
        "id": "IuSH8llRMGOn",
        "colab": {
          "resources": {
            "http://localhost:8080/nbextensions/google.colab/files.js": {
              "data": "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",
              "ok": true,
              "headers": [
                [
                  "content-type",
                  "application/javascript"
                ]
              ],
              "status": 200,
              "status_text": ""
            }
          },
          "base_uri": "https://localhost:8080/",
          "height": 281
        },
        "outputId": "d465e658-8e13-4fb7-fcf6-26276a0f585e"
      },
      "source": [
        "#every row of the table is a data sample (feature vector) from a person\n",
        "from google.colab import files\n",
        "uploaded = files.upload()\n",
        "import io\n",
        "df = pd.read_csv('cs_data.csv')\n",
        "df.head()"
      ],
      "execution_count": 146,
      "outputs": [
        {
          "output_type": "display_data",
          "data": {
            "text/html": [
              "\n",
              "     <input type=\"file\" id=\"files-5acadf43-44f3-4f5f-8c8e-91043e382952\" name=\"files[]\" multiple disabled\n",
              "        style=\"border:none\" />\n",
              "     <output id=\"result-5acadf43-44f3-4f5f-8c8e-91043e382952\">\n",
              "      Upload widget is only available when the cell has been executed in the\n",
              "      current browser session. Please rerun this cell to enable.\n",
              "      </output>\n",
              "      <script src=\"/nbextensions/google.colab/files.js\"></script> "
            ],
            "text/plain": [
              "<IPython.core.display.HTML object>"
            ]
          },
          "metadata": {}
        },
        {
          "output_type": "stream",
          "name": "stdout",
          "text": [
            "Saving cs_data.csv to cs_data (3).csv\n"
          ]
        },
        {
          "output_type": "execute_result",
          "data": {
            "text/html": [
              "<div>\n",
              "<style scoped>\n",
              "    .dataframe tbody tr th:only-of-type {\n",
              "        vertical-align: middle;\n",
              "    }\n",
              "\n",
              "    .dataframe tbody tr th {\n",
              "        vertical-align: top;\n",
              "    }\n",
              "\n",
              "    .dataframe thead th {\n",
              "        text-align: right;\n",
              "    }\n",
              "</style>\n",
              "<table border=\"1\" class=\"dataframe\">\n",
              "  <thead>\n",
              "    <tr style=\"text-align: right;\">\n",
              "      <th></th>\n",
              "      <th>id</th>\n",
              "      <th>SeriousDlqin2yrs</th>\n",
              "      <th>RevolvingUtilizationOfUnsecuredLines</th>\n",
              "      <th>age</th>\n",
              "      <th>NumberOfTime30-59DaysPastDueNotWorse</th>\n",
              "      <th>DebtRatio</th>\n",
              "      <th>MonthlyIncome</th>\n",
              "      <th>NumberOfOpenCreditLinesAndLoans</th>\n",
              "      <th>NumberOfTimes90DaysLate</th>\n",
              "      <th>NumberRealEstateLoansOrLines</th>\n",
              "      <th>NumberOfTime60-89DaysPastDueNotWorse</th>\n",
              "      <th>NumberOfDependents</th>\n",
              "    </tr>\n",
              "  </thead>\n",
              "  <tbody>\n",
              "    <tr>\n",
              "      <th>0</th>\n",
              "      <td>1</td>\n",
              "      <td>1</td>\n",
              "      <td>0.766127</td>\n",
              "      <td>45</td>\n",
              "      <td>2</td>\n",
              "      <td>0.802982</td>\n",
              "      <td>9120.0</td>\n",
              "      <td>13</td>\n",
              "      <td>0</td>\n",
              "      <td>6</td>\n",
              "      <td>0</td>\n",
              "      <td>2.0</td>\n",
              "    </tr>\n",
              "    <tr>\n",
              "      <th>1</th>\n",
              "      <td>2</td>\n",
              "      <td>0</td>\n",
              "      <td>0.957151</td>\n",
              "      <td>40</td>\n",
              "      <td>0</td>\n",
              "      <td>0.121876</td>\n",
              "      <td>2600.0</td>\n",
              "      <td>4</td>\n",
              "      <td>0</td>\n",
              "      <td>0</td>\n",
              "      <td>0</td>\n",
              "      <td>1.0</td>\n",
              "    </tr>\n",
              "    <tr>\n",
              "      <th>2</th>\n",
              "      <td>3</td>\n",
              "      <td>0</td>\n",
              "      <td>0.658180</td>\n",
              "      <td>38</td>\n",
              "      <td>1</td>\n",
              "      <td>0.085113</td>\n",
              "      <td>3042.0</td>\n",
              "      <td>2</td>\n",
              "      <td>1</td>\n",
              "      <td>0</td>\n",
              "      <td>0</td>\n",
              "      <td>0.0</td>\n",
              "    </tr>\n",
              "    <tr>\n",
              "      <th>3</th>\n",
              "      <td>4</td>\n",
              "      <td>0</td>\n",
              "      <td>0.233810</td>\n",
              "      <td>30</td>\n",
              "      <td>0</td>\n",
              "      <td>0.036050</td>\n",
              "      <td>3300.0</td>\n",
              "      <td>5</td>\n",
              "      <td>0</td>\n",
              "      <td>0</td>\n",
              "      <td>0</td>\n",
              "      <td>0.0</td>\n",
              "    </tr>\n",
              "    <tr>\n",
              "      <th>4</th>\n",
              "      <td>5</td>\n",
              "      <td>0</td>\n",
              "      <td>0.907239</td>\n",
              "      <td>49</td>\n",
              "      <td>1</td>\n",
              "      <td>0.024926</td>\n",
              "      <td>63588.0</td>\n",
              "      <td>7</td>\n",
              "      <td>0</td>\n",
              "      <td>1</td>\n",
              "      <td>0</td>\n",
              "      <td>0.0</td>\n",
              "    </tr>\n",
              "  </tbody>\n",
              "</table>\n",
              "</div>"
            ],
            "text/plain": [
              "   id  ...  NumberOfDependents\n",
              "0   1  ...                 2.0\n",
              "1   2  ...                 1.0\n",
              "2   3  ...                 0.0\n",
              "3   4  ...                 0.0\n",
              "4   5  ...                 0.0\n",
              "\n",
              "[5 rows x 12 columns]"
            ]
          },
          "metadata": {},
          "execution_count": 146
        }
      ]
    },
    {
      "cell_type": "markdown",
      "metadata": {
        "id": "W2aYh4gaMGOq"
      },
      "source": [
        "#### handle nan (null) in data (i.e. missing values)\n",
        "Some fields in the table are nan, which are missing values. <br>\n",
        "For example, someone may not want to reveal monthly income to whoever made the table/survey, then the table got nan."
      ]
    },
    {
      "cell_type": "code",
      "metadata": {
        "id": "PMhFlBKKMGOr",
        "colab": {
          "base_uri": "https://localhost:8080/"
        },
        "outputId": "ee2c98b7-387e-4ee6-de37-9bc81cc43542"
      },
      "source": [
        "df.isnull().sum()"
      ],
      "execution_count": 147,
      "outputs": [
        {
          "output_type": "execute_result",
          "data": {
            "text/plain": [
              "id                                          0\n",
              "SeriousDlqin2yrs                            0\n",
              "RevolvingUtilizationOfUnsecuredLines        0\n",
              "age                                         0\n",
              "NumberOfTime30-59DaysPastDueNotWorse        0\n",
              "DebtRatio                                   0\n",
              "MonthlyIncome                           29731\n",
              "NumberOfOpenCreditLinesAndLoans             0\n",
              "NumberOfTimes90DaysLate                     0\n",
              "NumberRealEstateLoansOrLines                0\n",
              "NumberOfTime60-89DaysPastDueNotWorse        0\n",
              "NumberOfDependents                       3924\n",
              "dtype: int64"
            ]
          },
          "metadata": {},
          "execution_count": 147
        }
      ]
    },
    {
      "cell_type": "code",
      "metadata": {
        "id": "ojTmJtgfMGOt",
        "colab": {
          "base_uri": "https://localhost:8080/"
        },
        "outputId": "9f66fffa-7f03-4248-86b9-c789e1fc8e57"
      },
      "source": [
        "#here, we use a simple method:\n",
        "#replace nan in each column with median value of that column\n",
        "#there are other methods in pandas and sklearn: interpolation in pandas and KNNImputer in sklearn\n",
        "from sklearn.impute import SimpleImputer\n",
        "imputer = SimpleImputer(strategy='median')\n",
        "dfv=imputer.fit_transform(df.values)\n",
        "df=pd.DataFrame(data=dfv, columns=df.columns)\n",
        "df.isnull().sum()"
      ],
      "execution_count": 148,
      "outputs": [
        {
          "output_type": "execute_result",
          "data": {
            "text/plain": [
              "id                                      0\n",
              "SeriousDlqin2yrs                        0\n",
              "RevolvingUtilizationOfUnsecuredLines    0\n",
              "age                                     0\n",
              "NumberOfTime30-59DaysPastDueNotWorse    0\n",
              "DebtRatio                               0\n",
              "MonthlyIncome                           0\n",
              "NumberOfOpenCreditLinesAndLoans         0\n",
              "NumberOfTimes90DaysLate                 0\n",
              "NumberRealEstateLoansOrLines            0\n",
              "NumberOfTime60-89DaysPastDueNotWorse    0\n",
              "NumberOfDependents                      0\n",
              "dtype: int64"
            ]
          },
          "metadata": {},
          "execution_count": 148
        }
      ]
    },
    {
      "cell_type": "markdown",
      "metadata": {
        "id": "F0yMixEaMGOv"
      },
      "source": [
        "### We have a highly imbalanced dataset\n",
        "139974 data samples in class-0 (normal) <br>\n",
        "10026 data samples in class-1 (financial distress)"
      ]
    },
    {
      "cell_type": "code",
      "metadata": {
        "id": "uqCi9eXTMGO0",
        "colab": {
          "base_uri": "https://localhost:8080/",
          "height": 283
        },
        "outputId": "a05ebd0d-577d-43d4-ce7f-c0edaa1ba895"
      },
      "source": [
        "df['SeriousDlqin2yrs'].hist()"
      ],
      "execution_count": 149,
      "outputs": [
        {
          "output_type": "execute_result",
          "data": {
            "text/plain": [
              "<matplotlib.axes._subplots.AxesSubplot at 0x7f5bab1b2e10>"
            ]
          },
          "metadata": {},
          "execution_count": 149
        },
        {
          "output_type": "display_data",
          "data": {
            "image/png": "[encoded data removed]",
            "text/plain": [
              "<Figure size 432x288 with 1 Axes>"
            ]
          },
          "metadata": {
            "needs_background": "light"
          }
        }
      ]
    },
    {
      "cell_type": "markdown",
      "metadata": {
        "id": "ePmlh56uMGO3"
      },
      "source": [
        "#### Classification Goal: predict 'SeriousDlqin2yrs' (Y) using the other features (X)"
      ]
    },
    {
      "cell_type": "code",
      "metadata": {
        "id": "QE6dFuFiMGO4",
        "colab": {
          "base_uri": "https://localhost:8080/",
          "height": 206
        },
        "outputId": "e28ffd52-9248-4c0d-ca2b-f8c31d61a39c"
      },
      "source": [
        "#'SeriousDlqin2yrs' is the target/class label, so it should not be in the input feature vector X\n",
        "#'id' of a person is useless for the classification task\n",
        "#so, we remove them from the table and get the input X\n",
        "X=df.drop(['SeriousDlqin2yrs', 'id'], axis=1)\n",
        "X.head()"
      ],
      "execution_count": 150,
      "outputs": [
        {
          "output_type": "execute_result",
          "data": {
            "text/html": [
              "<div>\n",
              "<style scoped>\n",
              "    .dataframe tbody tr th:only-of-type {\n",
              "        vertical-align: middle;\n",
              "    }\n",
              "\n",
              "    .dataframe tbody tr th {\n",
              "        vertical-align: top;\n",
              "    }\n",
              "\n",
              "    .dataframe thead th {\n",
              "        text-align: right;\n",
              "    }\n",
              "</style>\n",
              "<table border=\"1\" class=\"dataframe\">\n",
              "  <thead>\n",
              "    <tr style=\"text-align: right;\">\n",
              "      <th></th>\n",
              "      <th>RevolvingUtilizationOfUnsecuredLines</th>\n",
              "      <th>age</th>\n",
              "      <th>NumberOfTime30-59DaysPastDueNotWorse</th>\n",
              "      <th>DebtRatio</th>\n",
              "      <th>MonthlyIncome</th>\n",
              "      <th>NumberOfOpenCreditLinesAndLoans</th>\n",
              "      <th>NumberOfTimes90DaysLate</th>\n",
              "      <th>NumberRealEstateLoansOrLines</th>\n",
              "      <th>NumberOfTime60-89DaysPastDueNotWorse</th>\n",
              "      <th>NumberOfDependents</th>\n",
              "    </tr>\n",
              "  </thead>\n",
              "  <tbody>\n",
              "    <tr>\n",
              "      <th>0</th>\n",
              "      <td>0.766127</td>\n",
              "      <td>45.0</td>\n",
              "      <td>2.0</td>\n",
              "      <td>0.802982</td>\n",
              "      <td>9120.0</td>\n",
              "      <td>13.0</td>\n",
              "      <td>0.0</td>\n",
              "      <td>6.0</td>\n",
              "      <td>0.0</td>\n",
              "      <td>2.0</td>\n",
              "    </tr>\n",
              "    <tr>\n",
              "      <th>1</th>\n",
              "      <td>0.957151</td>\n",
              "      <td>40.0</td>\n",
              "      <td>0.0</td>\n",
              "      <td>0.121876</td>\n",
              "      <td>2600.0</td>\n",
              "      <td>4.0</td>\n",
              "      <td>0.0</td>\n",
              "      <td>0.0</td>\n",
              "      <td>0.0</td>\n",
              "      <td>1.0</td>\n",
              "    </tr>\n",
              "    <tr>\n",
              "      <th>2</th>\n",
              "      <td>0.658180</td>\n",
              "      <td>38.0</td>\n",
              "      <td>1.0</td>\n",
              "      <td>0.085113</td>\n",
              "      <td>3042.0</td>\n",
              "      <td>2.0</td>\n",
              "      <td>1.0</td>\n",
              "      <td>0.0</td>\n",
              "      <td>0.0</td>\n",
              "      <td>0.0</td>\n",
              "    </tr>\n",
              "    <tr>\n",
              "      <th>3</th>\n",
              "      <td>0.233810</td>\n",
              "      <td>30.0</td>\n",
              "      <td>0.0</td>\n",
              "      <td>0.036050</td>\n",
              "      <td>3300.0</td>\n",
              "      <td>5.0</td>\n",
              "      <td>0.0</td>\n",
              "      <td>0.0</td>\n",
              "      <td>0.0</td>\n",
              "      <td>0.0</td>\n",
              "    </tr>\n",
              "    <tr>\n",
              "      <th>4</th>\n",
              "      <td>0.907239</td>\n",
              "      <td>49.0</td>\n",
              "      <td>1.0</td>\n",
              "      <td>0.024926</td>\n",
              "      <td>63588.0</td>\n",
              "      <td>7.0</td>\n",
              "      <td>0.0</td>\n",
              "      <td>1.0</td>\n",
              "      <td>0.0</td>\n",
              "      <td>0.0</td>\n",
              "    </tr>\n",
              "  </tbody>\n",
              "</table>\n",
              "</div>"
            ],
            "text/plain": [
              "   RevolvingUtilizationOfUnsecuredLines  ...  NumberOfDependents\n",
              "0                              0.766127  ...                 2.0\n",
              "1                              0.957151  ...                 1.0\n",
              "2                              0.658180  ...                 0.0\n",
              "3                              0.233810  ...                 0.0\n",
              "4                              0.907239  ...                 0.0\n",
              "\n",
              "[5 rows x 10 columns]"
            ]
          },
          "metadata": {},
          "execution_count": 150
        }
      ]
    },
    {
      "cell_type": "code",
      "metadata": {
        "id": "hAGPCm8ZMGO5",
        "colab": {
          "base_uri": "https://localhost:8080/"
        },
        "outputId": "890375e5-70e6-4744-c661-1bcd26546906"
      },
      "source": [
        "#Y is the target/class label\n",
        "Y=df['SeriousDlqin2yrs']\n",
        "Y.head()"
      ],
      "execution_count": 151,
      "outputs": [
        {
          "output_type": "execute_result",
          "data": {
            "text/plain": [
              "0    1.0\n",
              "1    0.0\n",
              "2    0.0\n",
              "3    0.0\n",
              "4    0.0\n",
              "Name: SeriousDlqin2yrs, dtype: float64"
            ]
          },
          "metadata": {},
          "execution_count": 151
        }
      ]
    },
    {
      "cell_type": "code",
      "metadata": {
        "id": "TW_C_SOEMGO7"
      },
      "source": [
        "# convert pandas dataframe/series to numpy array\n",
        "# sklearn functions may not work well with pandas data types\n",
        "X=X.values\n",
        "Y=Y.values"
      ],
      "execution_count": 152,
      "outputs": []
    },
    {
      "cell_type": "code",
      "metadata": {
        "id": "1wKzH89cMGO8"
      },
      "source": [
        "#usually float32 is enough\n",
        "X = X.astype('float32')\n",
        "Y = Y.astype('float32')"
      ],
      "execution_count": 153,
      "outputs": []
    },
    {
      "cell_type": "markdown",
      "metadata": {
        "id": "MSLktiISMGO9"
      },
      "source": [
        "### create training, validation and test sets"
      ]
    },
    {
      "cell_type": "code",
      "metadata": {
        "id": "t0JWzp7LMGO9",
        "colab": {
          "base_uri": "https://localhost:8080/"
        },
        "outputId": "d21b262a-ed30-4c7f-fc3c-e44ca9f6a2d7"
      },
      "source": [
        "from sklearn.model_selection import train_test_split\n",
        "X_train, X_test, Y_train, Y_test = train_test_split(X, Y, test_size=0.2, random_state=0)\n",
        "#split X_train and Y_train into a 'pure' training set and a validation set\n",
        "X_train, X_val, Y_train, Y_val = train_test_split(X_train, Y_train, test_size=0.1, random_state=0)\n",
        "print('train:', X_train.shape, Y_train.shape)\n",
        "print('validation:', X_val.shape, Y_val.shape)\n",
        "print('test:', X_test.shape, Y_test.shape)"
      ],
      "execution_count": 154,
      "outputs": [
        {
          "output_type": "stream",
          "name": "stdout",
          "text": [
            "train: (108000, 10) (108000,)\n",
            "validation: (12000, 10) (12000,)\n",
            "test: (30000, 10) (30000,)\n"
          ]
        }
      ]
    },
    {
      "cell_type": "code",
      "metadata": {
        "id": "zkqUwAEYMGO-",
        "colab": {
          "base_uri": "https://localhost:8080/",
          "height": 264
        },
        "outputId": "6eb1494c-591b-48ef-befa-e3551c306af4"
      },
      "source": [
        "plt.hist(Y_train, bins=20);"
      ],
      "execution_count": 155,
      "outputs": [
        {
          "output_type": "display_data",
          "data": {
            "image/png": "[encoded data removed]",
            "text/plain": [
              "<Figure size 432x288 with 1 Axes>"
            ]
          },
          "metadata": {
            "needs_background": "light"
          }
        }
      ]
    },
    {
      "cell_type": "markdown",
      "metadata": {
        "id": "soBTGqODMGO_"
      },
      "source": [
        "Let's do upsampling for class-1"
      ]
    },
    {
      "cell_type": "code",
      "metadata": {
        "id": "DUn1O_7eMGO_",
        "colab": {
          "base_uri": "https://localhost:8080/"
        },
        "outputId": "fed53c06-a3b0-438e-c69b-b1f304b89c90"
      },
      "source": [
        "from sklearn.utils import resample\n",
        "X_train_c1  = resample(X_train[Y_train==1], n_samples=100824)\n",
        "Y_train_c1 = np.ones(X_train_c1.shape[0])\n",
        "print('X_train_c1', X_train_c1.shape, Y_train_c1.shape)\n",
        "X_train=np.concatenate([X_train[Y_train==0], X_train_c1], axis=0)\n",
        "Y_train=np.concatenate([Y_train[Y_train==0], Y_train_c1], axis=0)\n",
        "print('X_train.shape after upsampling', X_train.shape)\n",
        "print('Y_train.shape after upsampling', Y_train.shape)"
      ],
      "execution_count": 156,
      "outputs": [
        {
          "output_type": "stream",
          "name": "stdout",
          "text": [
            "X_train_c1 (100824, 10) (100824,)\n",
            "X_train.shape after upsampling (201648, 10)\n",
            "Y_train.shape after upsampling (201648,)\n"
          ]
        }
      ]
    },
    {
      "cell_type": "code",
      "metadata": {
        "id": "IRNpFbxQMGPB",
        "colab": {
          "base_uri": "https://localhost:8080/"
        },
        "outputId": "ead4e510-ec4e-43aa-ede3-6c1f147f4c7d"
      },
      "source": [
        "Y.dtype"
      ],
      "execution_count": 157,
      "outputs": [
        {
          "output_type": "execute_result",
          "data": {
            "text/plain": [
              "dtype('float32')"
            ]
          },
          "metadata": {},
          "execution_count": 157
        }
      ]
    },
    {
      "cell_type": "code",
      "metadata": {
        "id": "K8cxEVxIMGPC"
      },
      "source": [
        "#apply feature normalization to training, validation and test sets\n",
        "from sklearn.preprocessing import MinMaxScaler\n",
        "scaler=MinMaxScaler()\n",
        "scaler.fit(X_train) # think about why fit to X_train, not X ?\n",
        "X_train=scaler.transform(X_train)\n",
        "X_val=scaler.transform(X_val)\n",
        "X_test=scaler.transform(X_test)"
      ],
      "execution_count": 158,
      "outputs": []
    },
    {
      "cell_type": "markdown",
      "metadata": {
        "id": "6Rs52V9uMGPD"
      },
      "source": [
        "### we need to use weighted classification accuracy"
      ]
    },
    {
      "cell_type": "code",
      "metadata": {
        "id": "0z0OnEk1MGPD"
      },
      "source": [
        "# we need to use weighted classification accuracy\n",
        "# try to understand it\n",
        "def weighted_accuracy(confusion):\n",
        "    #input: confusion is the confusion matrix\n",
        "    #output: acc is the weighted classification accuracy\n",
        "    M=confusion.copy().astype('float32')\n",
        "    for k in range(0, M.shape[0]):\n",
        "        M[k]/=M[k].sum()+1e-8    \n",
        "    acc = M.diagonal().sum()/M.sum()\n",
        "    return acc"
      ],
      "execution_count": 159,
      "outputs": []
    },
    {
      "cell_type": "code",
      "metadata": {
        "id": "Ynu3Tt9XMGPE"
      },
      "source": [
        "#we need this function to get weighted_accuracy on validation and test sets\n",
        "def test_acc(model, X, Y):\n",
        "    acc_test =0 \n",
        "    num_classes=2\n",
        "    confusion=np.zeros((num_classes,num_classes), dtype=np.int64)\n",
        "    Yp=model.predict(X, batch_size=64)\n",
        "    Y=Y.astype('int64')\n",
        "    #0.5 is the threshold for classification\n",
        "    Yp=(Yp.squeeze()>0.5).astype('int64')\n",
        "    for i in range(0, num_classes):\n",
        "        for j in range(0, num_classes):\n",
        "            confusion[i,j]+=np.sum((Y==i)&(Yp==j)).astype('int64') \n",
        "    acc_test=weighted_accuracy(confusion)\n",
        "    return acc_test, confusion"
      ],
      "execution_count": 160,
      "outputs": []
    },
    {
      "cell_type": "markdown",
      "metadata": {
        "id": "RlJkdsxhMGPF"
      },
      "source": [
        "## Your task begins here <br>\n",
        "see NN_binary_classification_Keras.ipynb in Lecture notes <br>\n",
        "try Adam with lr=0.001 <br>\n",
        "Usually, we need to tune the hyperparameters of a neural network, <br>\n",
        "such as the number of layers, the number of units in each layer <br>\n",
        "If you have plenty of time and enough computing power, try to find better hyperparameters <br>\n",
        "read papers about \"Neural Architecture Search\" https://arxiv.org/abs/1808.05377"
      ]
    },
    {
      "cell_type": "markdown",
      "metadata": {
        "id": "JQyjv1kFMGPF"
      },
      "source": [
        "### Define the MLP model\n",
        "https://github.com/keras-team/keras/issues/7678 <br>\n",
        "we do not need to set the parameter \"from_logits\" for binary_crossentropy"
      ]
    },
    {
      "cell_type": "code",
      "metadata": {
        "id": "lUqtMITgMGPF",
        "colab": {
          "base_uri": "https://localhost:8080/"
        },
        "outputId": "9f39ee4a-2eb9-425b-87f0-ab37ec215b34"
      },
      "source": [
        "model = Sequential()\n",
        "model.add(Dense(units=256, activation='relu', input_shape=(10,)))\n",
        "model.add(Dense(units=256, activation='relu'))\n",
        "model.add(Dense(units=256, activation='relu'))\n",
        "model.add(Dense(units=1,  activation='sigmoid'))\n",
        "model.compile(loss='binary_crossentropy', optimizer= keras.optimizers.Adam(learning_rate=0.0001),metrics=['accuracy'])   \n",
        "model.summary()"
      ],
      "execution_count": 166,
      "outputs": [
        {
          "output_type": "stream",
          "name": "stdout",
          "text": [
            "Model: \"sequential_14\"\n",
            "_________________________________________________________________\n",
            " Layer (type)                Output Shape              Param #   \n",
            "=================================================================\n",
            " dense_56 (Dense)            (None, 256)               2816      \n",
            "                                                                 \n",
            " dense_57 (Dense)            (None, 256)               65792     \n",
            "                                                                 \n",
            " dense_58 (Dense)            (None, 256)               65792     \n",
            "                                                                 \n",
            " dense_59 (Dense)            (None, 1)                 257       \n",
            "                                                                 \n",
            "=================================================================\n",
            "Total params: 134,657\n",
            "Trainable params: 134,657\n",
            "Non-trainable params: 0\n",
            "_________________________________________________________________\n"
          ]
        }
      ]
    },
    {
      "cell_type": "code",
      "metadata": {
        "id": "Orj_XJ9NMGPG"
      },
      "source": [
        "loss_train_list=[]\n",
        "loss_val_list=[]\n",
        "acc_train_list=[]\n",
        "acc_val_list=[]"
      ],
      "execution_count": 167,
      "outputs": []
    },
    {
      "cell_type": "markdown",
      "metadata": {
        "id": "YKPEIU9eMGPG"
      },
      "source": [
        "### Train the model\n",
        "https://keras.io/getting-started/faq/#how-can-i-save-a-keras-model"
      ]
    },
    {
      "cell_type": "code",
      "metadata": {
        "scrolled": false,
        "id": "J_f3DBSHMGPH",
        "colab": {
          "base_uri": "https://localhost:8080/"
        },
        "outputId": "43b0a4a4-0214-43df-a386-ef19cb309f3f"
      },
      "source": [
        "for epoch in range(0, 10):   \n",
        "    print('epoch', epoch)\n",
        "    #set epochs=1\n",
        "    history=model.fit(X_train, Y_train, batch_size=64, epochs=1, validation_data=(X_val, Y_val))\n",
        "    loss_train_list.extend(history.history['loss'])\n",
        "    loss_val_list.extend(history.history['val_loss'])\n",
        "    acc_train_list.extend(history.history['accuracy'])\n",
        "    acc_val_list.extend(history.history['val_accuracy'])\n",
        "    #save the model to a an HDF5 file\n",
        "    model.save('H4P2T1_Keras_Sent_e'+str(epoch)+'.h5')"
      ],
      "execution_count": 168,
      "outputs": [
        {
          "output_type": "stream",
          "name": "stdout",
          "text": [
            "epoch 0\n",
            "3151/3151 [==============================] - 20s 6ms/step - loss: 0.5513 - accuracy: 0.7216 - val_loss: 0.4120 - val_accuracy: 0.8683\n",
            "epoch 1\n",
            "3151/3151 [==============================] - 20s 6ms/step - loss: 0.5014 - accuracy: 0.7637 - val_loss: 0.4660 - val_accuracy: 0.8291\n",
            "epoch 2\n",
            "3151/3151 [==============================] - 20s 6ms/step - loss: 0.4980 - accuracy: 0.7661 - val_loss: 0.5091 - val_accuracy: 0.8012\n",
            "epoch 3\n",
            "3151/3151 [==============================] - 20s 6ms/step - loss: 0.4963 - accuracy: 0.7675 - val_loss: 0.5624 - val_accuracy: 0.7702\n",
            "epoch 4\n",
            "3151/3151 [==============================] - 20s 6ms/step - loss: 0.4958 - accuracy: 0.7673 - val_loss: 0.5382 - val_accuracy: 0.7759\n",
            "epoch 5\n",
            "3151/3151 [==============================] - 20s 6ms/step - loss: 0.4948 - accuracy: 0.7677 - val_loss: 0.4916 - val_accuracy: 0.7981\n",
            "epoch 6\n",
            "3151/3151 [==============================] - 19s 6ms/step - loss: 0.4941 - accuracy: 0.7682 - val_loss: 0.4606 - val_accuracy: 0.8108\n",
            "epoch 7\n",
            "3151/3151 [==============================] - 20s 6ms/step - loss: 0.4937 - accuracy: 0.7684 - val_loss: 0.5547 - val_accuracy: 0.7653\n",
            "epoch 8\n",
            "3151/3151 [==============================] - 19s 6ms/step - loss: 0.4932 - accuracy: 0.7686 - val_loss: 0.4750 - val_accuracy: 0.8158\n",
            "epoch 9\n",
            "3151/3151 [==============================] - 19s 6ms/step - loss: 0.4926 - accuracy: 0.7692 - val_loss: 0.4841 - val_accuracy: 0.8003\n"
          ]
        }
      ]
    },
    {
      "cell_type": "markdown",
      "metadata": {
        "id": "hGbTDQtZMGPH"
      },
      "source": [
        "### Plot training histroy: loss vs epoch and accuracy vs epoch"
      ]
    },
    {
      "cell_type": "code",
      "metadata": {
        "colab": {
          "base_uri": "https://localhost:8080/"
        },
        "id": "CRegQgEpZ4v7",
        "outputId": "da1fc9bd-7d65-41d4-8f5d-e4d9720ffb66"
      },
      "source": [
        "history.history.keys()"
      ],
      "execution_count": 169,
      "outputs": [
        {
          "output_type": "execute_result",
          "data": {
            "text/plain": [
              "dict_keys(['loss', 'accuracy', 'val_loss', 'val_accuracy'])"
            ]
          },
          "metadata": {},
          "execution_count": 169
        }
      ]
    },
    {
      "cell_type": "code",
      "metadata": {
        "id": "U0P5Knx2MGPH",
        "colab": {
          "base_uri": "https://localhost:8080/",
          "height": 393
        },
        "outputId": "51b45e9f-88eb-4b80-e4af-dd34bdf54bb7"
      },
      "source": [
        "fig, ax = plt.subplots(1, 2, figsize=(12,6))\n",
        "ax[0].plot(np.arange(0,len(loss_train_list)), loss_train_list, '-b', label='training loss')\n",
        "ax[0].plot(np.arange(0,len(loss_val_list)), loss_val_list, '-r', label='validation loss')\n",
        "ax[0].set_xlabel('epoch',fontsize=16)\n",
        "ax[0].legend(fontsize=16)\n",
        "ax[0].grid(True)\n",
        "ax[1].plot(np.arange(0,len(acc_train_list)), acc_train_list, '-b', label='training accuracy')\n",
        "ax[1].plot(np.arange(0,len(acc_val_list)), acc_val_list, '-r', label='validation accuracy')\n",
        "ax[1].set_xlabel('epoch',fontsize=16)\n",
        "ax[1].legend(fontsize=16)\n",
        "ax[1].grid(True)"
      ],
      "execution_count": 170,
      "outputs": [
        {
          "output_type": "display_data",
          "data": {
            "image/png": "[encoded data removed]",
            "text/plain": [
              "<Figure size 864x432 with 2 Axes>"
            ]
          },
          "metadata": {
            "needs_background": "light"
          }
        }
      ]
    },
    {
      "cell_type": "markdown",
      "metadata": {
        "id": "yhD3tQdQMGPH"
      },
      "source": [
        "### you may train the model for more than 10 epochs and see if you can get a better result"
      ]
    },
    {
      "cell_type": "code",
      "metadata": {
        "id": "_-PAD4IWMGPI"
      },
      "source": [
        "#optional"
      ],
      "execution_count": null,
      "outputs": []
    },
    {
      "cell_type": "markdown",
      "metadata": {
        "id": "yE7loIHeMGPI"
      },
      "source": [
        "### after training, we load the best model from the harddrive and evaluate the model on the test set\n",
        "You may get a different result because of random initialization of network parameters"
      ]
    },
    {
      "cell_type": "code",
      "metadata": {
        "id": "fGDEZGshFsDa"
      },
      "source": [
        "from tensorflow.keras.models import load_model\n",
        "best_model = load_model('H4P2T1_Keras_Sent_e9.h5', custom_objects={'Sequential': Sequential})"
      ],
      "execution_count": 188,
      "outputs": []
    },
    {
      "cell_type": "code",
      "metadata": {
        "id": "YrsxGQRdMGPJ",
        "colab": {
          "base_uri": "https://localhost:8080/"
        },
        "outputId": "95e03bfd-7550-4592-f0c2-6c8fec4cba65"
      },
      "source": [
        "# get accuracy from model.evaluate\n",
        "score =best_model.evaluate(X_test, Y_test, batch_size=64, verbose=0)\n",
        "print('Test loss:', score[0])\n",
        "print('Test accuracy:', score[1])"
      ],
      "execution_count": 189,
      "outputs": [
        {
          "output_type": "stream",
          "name": "stdout",
          "text": [
            "Test loss: 0.4841446280479431\n",
            "Test accuracy: 0.8029333353042603\n"
          ]
        }
      ]
    },
    {
      "cell_type": "code",
      "metadata": {
        "id": "rdFHdIkuIL-B"
      },
      "source": [
        "# make prediction on the test set\n",
        "Y_test_pred=best_model.predict(X_test, batch_size=64)"
      ],
      "execution_count": 190,
      "outputs": []
    },
    {
      "cell_type": "code",
      "metadata": {
        "id": "pS1Ir5pBMGPJ"
      },
      "source": [
        "# weighted accuracy is the 'real' performance of the model\n"
      ],
      "execution_count": null,
      "outputs": []
    },
    {
      "cell_type": "code",
      "metadata": {
        "id": "crZqLHwlMGPK"
      },
      "source": [
        "Yp_test=best_model.predict(X_test, batch_size=64)"
      ],
      "execution_count": 191,
      "outputs": []
    },
    {
      "cell_type": "code",
      "metadata": {
        "id": "YSuK8V7VMGPK",
        "colab": {
          "base_uri": "https://localhost:8080/"
        },
        "outputId": "ee0dd057-ac54-440c-e093-a9cdee25f498"
      },
      "source": [
        "Yp_test.shape"
      ],
      "execution_count": 192,
      "outputs": [
        {
          "output_type": "execute_result",
          "data": {
            "text/plain": [
              "(30000, 1)"
            ]
          },
          "metadata": {},
          "execution_count": 192
        }
      ]
    },
    {
      "cell_type": "code",
      "metadata": {
        "id": "-W-n1KxbMGPK",
        "colab": {
          "base_uri": "https://localhost:8080/"
        },
        "outputId": "d5c1b03f-33e9-454c-f3b7-1da9f50f30ae"
      },
      "source": [
        "Yp_test"
      ],
      "execution_count": 193,
      "outputs": [
        {
          "output_type": "execute_result",
          "data": {
            "text/plain": [
              "array([[0.22731197],\n",
              "       [0.18129736],\n",
              "       [0.23746729],\n",
              "       ...,\n",
              "       [0.1284723 ],\n",
              "       [0.27799228],\n",
              "       [0.10975006]], dtype=float32)"
            ]
          },
          "metadata": {},
          "execution_count": 193
        }
      ]
    }
  ]
}